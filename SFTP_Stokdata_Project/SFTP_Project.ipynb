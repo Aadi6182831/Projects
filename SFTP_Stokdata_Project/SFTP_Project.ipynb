{
 "cells": [
  {
   "cell_type": "raw",
   "id": "cd26d3c7-1d31-4a57-aa6e-12b1d7ce2270",
   "metadata": {},
   "source": [
    "Goal: Collect real-time stock prices, securely store them, design a dimensional model, and load data into a data warehouse for analysis.\n",
    "Tech Stack: Python (requests, paramiko, gnupg), PostgreSQL, SFTP, and SQL.\n",
    "\n",
    "Step-by-Step Implementation::\n",
    "1️⃣ API Scraping (Stock Market Data)\n",
    "Choose a stock market API: Yahoo Finance API\n",
    "Extract stock prices, volume, and company details.\n",
    "Store data in a JSON or CSV file.\n",
    "\n",
    "2️⃣ Encrypt & Store Data in SFTP\n",
    "Use PGP encryption to secure stock data.\n",
    "Upload encrypted files to an SFTP server using paramiko.\n",
    "\n",
    "3️⃣ Design a Dimensional Model\n",
    "Fact Table: stock_prices (price, volume, open/close, timestamp).\n",
    "Dimension Tables:\n",
    "companies (name, sector, stock symbol).\n",
    "dates (trading day, week, month).\n",
    "\n",
    "4️⃣ Load Data into a Data Warehouse\n",
    "Pull & decrypt data from SFTP.\n",
    "Load data into PostgreSQL(Snowflake, or BigQuery)\n",
    "Write SQL queries to analyze stock trends."
   ]
  },
  {
   "cell_type": "code",
   "execution_count": 1,
   "id": "61cf9dc6-0b80-4a8c-adf0-b40f9c88913f",
   "metadata": {},
   "outputs": [],
   "source": [
    "import requests\n",
    "import yfinance as yf\n",
    "import os\n",
    "import pandas as pd\n",
    "import json\n",
    "import csv\n",
    "import paramiko #used to interact with SSH (Secure Shell) servers- Client\n",
    "# we are using it to securely upload a file to an SFTP (Secure File Transfer Protocol) server."
   ]
  },
  {
   "cell_type": "code",
   "execution_count": 2,
   "id": "4af47dd4-5e89-4066-9c62-53aa8c458332",
   "metadata": {},
   "outputs": [
    {
     "name": "stdout",
     "output_type": "stream",
     "text": [
      "                                 Open        High         Low       Close  \\\n",
      "Date                                                                        \n",
      "2025-02-07 00:00:00-05:00  232.344548  233.743004  227.010401  227.380005   \n",
      "2025-02-10 00:00:00-05:00  229.570007  230.589996  227.199997  227.649994   \n",
      "2025-02-11 00:00:00-05:00  228.199997  235.229996  228.130005  232.619995   \n",
      "2025-02-12 00:00:00-05:00  231.199997  236.960007  230.679993  236.869995   \n",
      "2025-02-13 00:00:00-05:00  236.910004  242.339996  235.570007  241.529999   \n",
      "2025-02-14 00:00:00-05:00  241.250000  245.550003  240.990005  244.600006   \n",
      "2025-02-18 00:00:00-05:00  244.149994  245.179993  241.839996  244.470001   \n",
      "2025-02-19 00:00:00-05:00  244.660004  246.009995  243.160004  244.869995   \n",
      "2025-02-20 00:00:00-05:00  244.940002  246.779999  244.289993  245.830002   \n",
      "2025-02-21 00:00:00-05:00  245.949997  248.690002  245.220001  245.550003   \n",
      "2025-02-24 00:00:00-05:00  244.929993  248.860001  244.419998  247.100006   \n",
      "2025-02-25 00:00:00-05:00  248.000000  250.000000  244.910004  247.039993   \n",
      "2025-02-26 00:00:00-05:00  244.330002  244.979996  239.130005  240.360001   \n",
      "2025-02-27 00:00:00-05:00  239.410004  242.460007  237.059998  237.300003   \n",
      "2025-02-28 00:00:00-05:00  236.949997  238.308304  234.509995  237.919998   \n",
      "\n",
      "                             Volume  Dividends  Stock Splits  \n",
      "Date                                                          \n",
      "2025-02-07 00:00:00-05:00  39707200       0.00           0.0  \n",
      "2025-02-10 00:00:00-05:00  33115600       0.25           0.0  \n",
      "2025-02-11 00:00:00-05:00  53718400       0.00           0.0  \n",
      "2025-02-12 00:00:00-05:00  45243300       0.00           0.0  \n",
      "2025-02-13 00:00:00-05:00  53614100       0.00           0.0  \n",
      "2025-02-14 00:00:00-05:00  40896200       0.00           0.0  \n",
      "2025-02-18 00:00:00-05:00  48822500       0.00           0.0  \n",
      "2025-02-19 00:00:00-05:00  32204200       0.00           0.0  \n",
      "2025-02-20 00:00:00-05:00  32316900       0.00           0.0  \n",
      "2025-02-21 00:00:00-05:00  53197400       0.00           0.0  \n",
      "2025-02-24 00:00:00-05:00  51326400       0.00           0.0  \n",
      "2025-02-25 00:00:00-05:00  48013300       0.00           0.0  \n",
      "2025-02-26 00:00:00-05:00  44433600       0.00           0.0  \n",
      "2025-02-27 00:00:00-05:00  41153600       0.00           0.0  \n",
      "2025-02-28 00:00:00-05:00  22611076       0.00           0.0  \n"
     ]
    },
    {
     "data": {
      "text/plain": [
       "'# Defining multiple stock ticker symbols\\ntickers = [\"AAPL\", \"GOOG\",\"NVDA\", \"AMZN\", \"META\"]\\n\\n# Fetching data for all stocks\\nstock_data_multiple = yf.download(tickers, period=\"30d\")\\n\\n# Printing the data for all stocks\\nprint(stock_data_multiple)'"
      ]
     },
     "execution_count": 2,
     "metadata": {},
     "output_type": "execute_result"
    }
   ],
   "source": [
    "# Defining the stock ticker symbol\n",
    "ticker = \"AAPL\"\n",
    "\n",
    "# Fetching stock data for the ticker\n",
    "stock_data = yf.Ticker(ticker)\n",
    "\n",
    "# Getting historical data for the last 30 days\n",
    "historical_data = stock_data.history(period=\"15d\")\n",
    "\n",
    "# Printing the data\n",
    "print(historical_data)\n",
    "\n",
    "'''# Defining multiple stock ticker symbols\n",
    "tickers = [\"AAPL\", \"GOOG\",\"NVDA\", \"AMZN\", \"META\"]\n",
    "\n",
    "# Fetching data for all stocks\n",
    "stock_data_multiple = yf.download(tickers, period=\"30d\")\n",
    "\n",
    "# Printing the data for all stocks\n",
    "print(stock_data_multiple)'''"
   ]
  },
  {
   "cell_type": "code",
   "execution_count": 3,
   "id": "6eaa29a3-11bf-4c3d-b845-89a80fbdfa8d",
   "metadata": {},
   "outputs": [
    {
     "name": "stdout",
     "output_type": "stream",
     "text": [
      "Date\n",
      "2025-02-07 00:00:00-05:00    227.380005\n",
      "2025-02-10 00:00:00-05:00    227.649994\n",
      "2025-02-11 00:00:00-05:00    232.619995\n",
      "2025-02-12 00:00:00-05:00    236.869995\n",
      "2025-02-13 00:00:00-05:00    241.529999\n",
      "2025-02-14 00:00:00-05:00    244.600006\n",
      "2025-02-18 00:00:00-05:00    244.470001\n",
      "2025-02-19 00:00:00-05:00    244.869995\n",
      "2025-02-20 00:00:00-05:00    245.830002\n",
      "2025-02-21 00:00:00-05:00    245.550003\n",
      "2025-02-24 00:00:00-05:00    247.100006\n",
      "2025-02-25 00:00:00-05:00    247.039993\n",
      "2025-02-26 00:00:00-05:00    240.360001\n",
      "2025-02-27 00:00:00-05:00    237.300003\n",
      "2025-02-28 00:00:00-05:00    237.919998\n",
      "Name: Close, dtype: float64\n"
     ]
    }
   ],
   "source": [
    "close_prices = historical_data['Close']\n",
    "# Displaying the close prices\n",
    "print(close_prices)"
   ]
  },
  {
   "cell_type": "code",
   "execution_count": 4,
   "id": "9e3bce72-6c26-4f82-aad7-7c90e36e3ab7",
   "metadata": {},
   "outputs": [
    {
     "name": "stdout",
     "output_type": "stream",
     "text": [
      "{'address1': 'One Apple Park Way', 'city': 'Cupertino', 'state': 'CA', 'zip': '95014', 'country': 'United States', 'phone': '(408) 996-1010', 'website': 'https://www.apple.com', 'industry': 'Consumer Electronics', 'industryKey': 'consumer-electronics', 'industryDisp': 'Consumer Electronics', 'sector': 'Technology', 'sectorKey': 'technology', 'sectorDisp': 'Technology', 'longBusinessSummary': 'Apple Inc. designs, manufactures, and markets smartphones, personal computers, tablets, wearables, and accessories worldwide. The company offers iPhone, a line of smartphones; Mac, a line of personal computers; iPad, a line of multi-purpose tablets; and wearables, home, and accessories comprising AirPods, Apple TV, Apple Watch, Beats products, and HomePod. It also provides AppleCare support and cloud services; and operates various platforms, including the App Store that allow customers to discover and download applications and digital content, such as books, music, video, games, and podcasts, as well as advertising services include third-party licensing arrangements and its own advertising platforms. In addition, the company offers various subscription-based services, such as Apple Arcade, a game subscription service; Apple Fitness+, a personalized fitness service; Apple Music, which offers users a curated listening experience with on-demand radio stations; Apple News+, a subscription news and magazine service; Apple TV+, which offers exclusive original content; Apple Card, a co-branded credit card; and Apple Pay, a cashless payment service, as well as licenses its intellectual property. The company serves consumers, and small and mid-sized businesses; and the education, enterprise, and government markets. It distributes third-party applications for its products through the App Store. The company also sells its products through its retail and online stores, and direct sales force; and third-party cellular network carriers, wholesalers, retailers, and resellers. Apple Inc. was founded in 1976 and is headquartered in Cupertino, California.', 'fullTimeEmployees': 150000, 'companyOfficers': [{'maxAge': 1, 'name': 'Mr. Timothy D. Cook', 'age': 63, 'title': 'CEO & Director', 'yearBorn': 1961, 'fiscalYear': 2023, 'totalPay': 16239562, 'exercisedValue': 0, 'unexercisedValue': 0}, {'maxAge': 1, 'name': 'Mr. Jeffrey E. Williams', 'age': 60, 'title': 'Chief Operating Officer', 'yearBorn': 1964, 'fiscalYear': 2023, 'totalPay': 4637585, 'exercisedValue': 0, 'unexercisedValue': 0}, {'maxAge': 1, 'name': 'Ms. Katherine L. Adams', 'age': 60, 'title': 'Senior VP, General Counsel & Secretary', 'yearBorn': 1964, 'fiscalYear': 2023, 'totalPay': 4618064, 'exercisedValue': 0, 'unexercisedValue': 0}, {'maxAge': 1, 'name': \"Ms. Deirdre  O'Brien\", 'age': 57, 'title': 'Chief People Officer & Senior VP of Retail', 'yearBorn': 1967, 'fiscalYear': 2023, 'totalPay': 4613369, 'exercisedValue': 0, 'unexercisedValue': 0}, {'maxAge': 1, 'name': 'Mr. Kevan  Parekh', 'age': 52, 'title': 'Senior VP & CFO', 'yearBorn': 1972, 'fiscalYear': 2023, 'exercisedValue': 0, 'unexercisedValue': 0}, {'maxAge': 1, 'name': 'Mr. Chris  Kondo', 'title': 'Senior Director of Corporate Accounting', 'fiscalYear': 2023, 'exercisedValue': 0, 'unexercisedValue': 0}, {'maxAge': 1, 'name': 'Suhasini  Chandramouli', 'title': 'Director of Investor Relations', 'fiscalYear': 2023, 'exercisedValue': 0, 'unexercisedValue': 0}, {'maxAge': 1, 'name': 'Ms. Kristin Huguet Quayle', 'title': 'Vice President of Worldwide Communications', 'fiscalYear': 2023, 'exercisedValue': 0, 'unexercisedValue': 0}, {'maxAge': 1, 'name': 'Mr. Greg  Joswiak', 'title': 'Senior Vice President of Worldwide Marketing', 'fiscalYear': 2023, 'exercisedValue': 0, 'unexercisedValue': 0}, {'maxAge': 1, 'name': 'Mr. Adrian  Perica', 'age': 50, 'title': 'Vice President of Corporate Development', 'yearBorn': 1974, 'fiscalYear': 2023, 'exercisedValue': 0, 'unexercisedValue': 0}], 'auditRisk': 3, 'boardRisk': 1, 'compensationRisk': 3, 'shareHolderRightsRisk': 1, 'overallRisk': 1, 'governanceEpochDate': 1738368000, 'compensationAsOfEpochDate': 1703980800, 'irWebsite': 'http://investor.apple.com/', 'executiveTeam': [], 'maxAge': 86400, 'priceHint': 2, 'previousClose': 237.3, 'open': 236.95, 'dayLow': 234.51, 'dayHigh': 238.3083, 'regularMarketPreviousClose': 237.3, 'regularMarketOpen': 236.95, 'regularMarketDayLow': 234.51, 'regularMarketDayHigh': 238.3083, 'dividendRate': 1.0, 'dividendYield': 0.42, 'exDividendDate': 1739145600, 'payoutRatio': 0.1571, 'fiveYearAvgDividendYield': 0.6, 'beta': 1.2, 'trailingPE': 37.82512, 'forwardPE': 28.630564, 'volume': 22611076, 'regularMarketVolume': 22611076, 'averageVolume': 50200878, 'averageVolume10days': 44590280, 'averageDailyVolume10Day': 44590280, 'bid': 236.52, 'ask': 244.0, 'bidSize': 3, 'askSize': 1, 'marketCap': 3574058188800, 'fiftyTwoWeekLow': 164.08, 'fiftyTwoWeekHigh': 260.1, 'priceToSalesTrailing12Months': 9.030872, 'fiftyDayAverage': 240.3468, 'twoHundredDayAverage': 225.58736, 'trailingAnnualDividendRate': 0.99, 'trailingAnnualDividendYield': 0.0041719344, 'currency': 'USD', 'tradeable': False, 'enterpriseValue': 3607762042880, 'profitMargins': 0.24295, 'floatShares': 14998187904, 'sharesOutstanding': 15022100480, 'sharesShort': 127893856, 'sharesShortPriorMonth': 135189465, 'sharesShortPreviousMonthDate': 1736899200, 'dateShortInterest': 1739491200, 'sharesPercentSharesOut': 0.0085, 'heldPercentInsiders': 0.02286, 'heldPercentInstitutions': 0.62712, 'shortRatio': 2.22, 'shortPercentOfFloat': 0.0085, 'impliedSharesOutstanding': 15390999552, 'bookValue': 4.438, 'priceToBook': 53.60973, 'lastFiscalYearEnd': 1727481600, 'nextFiscalYearEnd': 1759017600, 'mostRecentQuarter': 1735344000, 'earningsQuarterlyGrowth': 0.071, 'netIncomeToCommon': 96150003712, 'trailingEps': 6.29, 'forwardEps': 8.31, 'lastSplitFactor': '4:1', 'lastSplitDate': 1598832000, 'enterpriseToRevenue': 9.116, 'enterpriseToEbitda': 26.267, '52WeekChange': 0.3208282, 'SandP52WeekChange': 0.1410315, 'lastDividendValue': 0.25, 'lastDividendDate': 1739145600, 'quoteType': 'EQUITY', 'currentPrice': 237.92, 'targetHighPrice': 325.0, 'targetLowPrice': 197.0, 'targetMeanPrice': 252.22575, 'targetMedianPrice': 257.5, 'recommendationMean': 2.06522, 'recommendationKey': 'buy', 'numberOfAnalystOpinions': 40, 'totalCash': 53774999552, 'totalCashPerShare': 3.58, 'ebitda': 137352003584, 'totalDebt': 96798998528, 'quickRatio': 0.783, 'currentRatio': 0.923, 'totalRevenue': 395760009216, 'debtToEquity': 145.0, 'revenuePerShare': 25.974, 'returnOnAssets': 0.22518998, 'returnOnEquity': 1.3652, 'grossProfits': 184102993920, 'freeCashflow': 93833871360, 'operatingCashflow': 108293996544, 'earningsGrowth': 0.101, 'revenueGrowth': 0.04, 'grossMargins': 0.46519002, 'ebitdaMargins': 0.34706002, 'operatingMargins': 0.34459, 'financialCurrency': 'USD', 'symbol': 'AAPL', 'language': 'en-US', 'region': 'US', 'typeDisp': 'Equity', 'quoteSourceName': 'Nasdaq Real Time Price', 'triggerable': True, 'customPriceAlertConfidence': 'HIGH', 'shortName': 'Apple Inc.', 'exchange': 'NMS', 'messageBoardId': 'finmb_24937', 'exchangeTimezoneName': 'America/New_York', 'exchangeTimezoneShortName': 'EST', 'gmtOffSetMilliseconds': -18000000, 'market': 'us_market', 'corporateActions': [], 'regularMarketTime': 1740771076, 'marketState': 'REGULAR', 'longName': 'Apple Inc.', 'esgPopulated': False, 'regularMarketChangePercent': 0.26127058, 'regularMarketPrice': 237.92, 'sourceInterval': 15, 'exchangeDataDelayedBy': 0, 'averageAnalystRating': '2.1 - Buy', 'cryptoTradeable': False, 'hasPrePostMarketData': True, 'fiftyTwoWeekChangePercent': 32.08282, 'dividendDate': 1739404800, 'earningsTimestamp': 1738272600, 'earningsTimestampStart': 1746010740, 'earningsTimestampEnd': 1746446400, 'earningsCallTimestampStart': 1738274400, 'earningsCallTimestampEnd': 1738274400, 'isEarningsDateEstimate': True, 'epsTrailingTwelveMonths': 6.29, 'epsForward': 8.31, 'epsCurrentYear': 7.33658, 'priceEpsCurrentYear': 32.42928, 'fiftyDayAverageChange': -2.4268036, 'fiftyDayAverageChangePercent': -0.010097091, 'twoHundredDayAverageChange': 12.332642, 'twoHundredDayAverageChangePercent': 0.05466903, 'firstTradeDateMilliseconds': 345479400000, 'regularMarketChange': 0.6199951, 'regularMarketDayRange': '234.51 - 238.3083', 'fullExchangeName': 'NasdaqGS', 'averageDailyVolume3Month': 50200878, 'fiftyTwoWeekLowChange': 73.84, 'fiftyTwoWeekLowChangePercent': 0.45002434, 'fiftyTwoWeekRange': '164.08 - 260.1', 'fiftyTwoWeekHighChange': -22.180008, 'fiftyTwoWeekHighChangePercent': -0.08527492, 'displayName': 'Apple', 'trailingPegRatio': 2.1978}\n"
     ]
    }
   ],
   "source": [
    "company_info = stock_data.info\n",
    "print(company_info)\n",
    "company_info_df = pd.DataFrame([company_info])\n",
    "company_info_df.to_csv(\"AAPL_info.csv\")"
   ]
  },
  {
   "cell_type": "code",
   "execution_count": 5,
   "id": "461058c0-3f65-45a8-bc2f-9ac97ef70cc4",
   "metadata": {},
   "outputs": [
    {
     "name": "stdout",
     "output_type": "stream",
     "text": [
      "Date\n",
      "2025-02-10 00:00:00-05:00    0.25\n",
      "Name: Dividends, dtype: float64\n"
     ]
    }
   ],
   "source": [
    "dividends = stock_data.dividends\n",
    "print(dividends)"
   ]
  },
  {
   "cell_type": "code",
   "execution_count": 6,
   "id": "2ea61fa6-03f3-4171-b248-6f67ad9ab32f",
   "metadata": {},
   "outputs": [],
   "source": [
    "historical_data.to_csv(\"AAPL_stock_data.csv\")"
   ]
  },
  {
   "cell_type": "code",
   "execution_count": 7,
   "id": "7a1a3afc-082f-47b1-bcf5-5c6d169b5467",
   "metadata": {},
   "outputs": [
    {
     "name": "stdout",
     "output_type": "stream",
     "text": [
      "                                                0\n",
      "address1                       One Apple Park Way\n",
      "city                                    Cupertino\n",
      "state                                          CA\n",
      "zip                                         95014\n",
      "country                             United States\n",
      "...                                           ...\n",
      "fiftyTwoWeekRange                  164.08 - 260.1\n",
      "fiftyTwoWeekHighChange                 -22.180008\n",
      "fiftyTwoWeekHighChangePercent           -0.085275\n",
      "displayName                                 Apple\n",
      "trailingPegRatio                           2.1978\n",
      "\n",
      "[176 rows x 1 columns]\n"
     ]
    }
   ],
   "source": [
    "Transposed_company_info_df=company_info_df.T\n",
    "print(Transposed_company_info_df)"
   ]
  },
  {
   "cell_type": "code",
   "execution_count": 8,
   "id": "ba97e203-934a-4fb5-977d-19c2553ebd30",
   "metadata": {},
   "outputs": [],
   "source": [
    "Transposed_company_info_df.to_csv(\"AAPL_Transposed_company_info_df.csv\")"
   ]
  },
  {
   "cell_type": "code",
   "execution_count": 9,
   "id": "fbde43f6-8037-46fe-9f43-e1ea399ddf2e",
   "metadata": {},
   "outputs": [
    {
     "name": "stdout",
     "output_type": "stream",
     "text": [
      "Encryption key generated and saved. b'-FyBIYb4_kLZzNynt4lsHwwxnVyVnvR-vykqmKUWf0c='\n"
     ]
    }
   ],
   "source": [
    "#Generating an AES Key(Advanced Encryption Standard)\n",
    "from cryptography.fernet import Fernet\n",
    "#Fernet is a symmetric encryption system that allows you to encrypt and decrypt data using the same key. \n",
    "#It is part of the cryptography library and is built on AES (Advanced Encryption Standard) with additional security mechanisms.\n",
    "#cryptography.fernet is a module inside the cryptography library that provides easy-to-use, strong encryption based on AES.\n",
    "\n",
    "#Fernet is a class that makes encryption easy and secure.\n",
    "\n",
    "# Generating a new encryption key\n",
    "encryption_key = Fernet.generate_key()\n",
    "\n",
    "# Saving the key to a file (so we can use it later for decryption)\n",
    "with open(\"encryption_key.key\", \"wb\") as key_file:\n",
    "    key_file.write(encryption_key)\n",
    "\n",
    "print(\"Encryption key generated and saved.\",encryption_key)"
   ]
  },
  {
   "cell_type": "code",
   "execution_count": 10,
   "id": "af118f6a-98ca-4419-8701-afa3bd15fe4c",
   "metadata": {},
   "outputs": [
    {
     "name": "stdout",
     "output_type": "stream",
     "text": [
      "b'gAAAAABnwg8GFISG_AlgedZIzspfkNNPptBRD7Ss3ckT2uGMpCAGfzna4YvA-hnFjIVpSWRON120NGYG5znT6SiiQNKgavziLa2I0RY6rPO89cRSOoulNExvaz_EJoX7N_-qdFhASQyg8Q_xYcc5SLMW2L6nDGSM1ylnqwJdt_S0dhVi0aNY6dTeNlYDMgqngGYYEgcXOTSOasgMUDM-8JjKZRLj1dhcE-YLcx046P5Ase79PvzDX7dmcFNLJ-V5BeqO0qROT7-7FE6BLgjmMxYj8hRvcDzYNbwN13GEDzadJYeDw0eOchJ4OknlYCEJ6xzvZkhn3y0M-Vr1rf5R9pIR74_pXAdBhYO5uRrZz96H4bIHWt3X_RI50Ifq40ryFDU1LvfDfiJDVihyuqKdaYHTbn7zxdKILnuT28CnSDBEG75ZEc41uGRtSuRo3tH2kT-MPCyraxrPQR9GPM-OTQaaXIuQugCHRcPridcWkA2-BE3Ua2g6pFkGSNb4AOwvCcvgCuGz-IgeiXrPTcUrQPu26nCo7ZHio3YGGbfmd0t9DBOT4No3NqSDbv64djssaQrWvTI_hMJ7_M46lxV9W6868hd175pTvLuOBpAcpA411ZYAap8e-qfNY8noCtk8DOEsxAI0AmR13ef2v6sGOIG7pGEbqgnyQHSPt2rhJTStPMArHTmsMvD2vkHg9g24D1_mBCtc5Va5B6W1KG92pQmE_ou23JaKglDw-bE7QmYePEOfGz8UOTQdJBk2banEtSzw-svdRgdILo-gLc1H9PTchKlwARyntR45FqloBhbkw5G9K0d-2kbS-l3Q2U-nmHNx017_gluFQIyD76ZU-qFWX54d5m6O7XUN6pTwk-vX1UT-n6cfVkWoEnHY-OqzHIdgrG6Uv8okH2O8fMmx3LiwIseETab08276NfGkKDghLrw4wQQstOM9EmxVtI5j1dgW4m5J5XnDbZRVuukArd3CIpThbOm1vITL0TcXkfwPLx39thz0y6xmPmKXgUztC3tKynSzB-PnBSToQm5GWFj5VI0IQGdDHFbX1Tp0qGGySUpjO0AaFs1JqlkXdXFqSFD8I6swXkRx5gWkzQrzkAbVpeihwjZW-dUR0O1DdVO95m8sUQ3yb6LyulgpQ9HbhNKYvZFvRcTkD1ow_A019o61CRGa3DaqTNDWz6cusq6zVMPM59wfLlKUClpGCx9MPno5gRlULDn79r4ePTdTo0u7XDSQQudHJnNuE0LOo9xJGMBwWv-Y2jbOeu5SqQxYVi5YX3aXweRr9fPMuwICOhxpFkD20n_G3YXkzQHW-3ao2e5PGErgi0fTlR-I4LosaDcxlg7nJ5o_NYAEbFCqzelDvHOx6bs-IY3-2Pbthd_Neb04KTlTomxDM8zQb9V8N8Wp8IzUIDfEquzBxhV6c6QBALn4ytFd1Sjav9JJyoR1Ansg35Xyz21CJwt7FXcIKQfv13g495vLfblkD6bcmojplFV3bh_YpVNZl9ygppBoNn9SG0uRtYDTDWb6qjyO0o-mbtPXc_SvHg-Pjq9GD80k27gTSp9OjxPidldmSqqKoH6JrnH_B6taSbbAEoFPNVgFgiTr8TQElnQD_hX1fg-27BVAY-5BQTsjVcy5MLrR9vAC9RTFi2zcd6IZLNz55iy05DreiW4k1Sc2n1INB85BO2xzY2Krw58tkRRPozka1DZfm9cGsd7WyniRsiHE0yErP0hp0987ecaMyXuZFtC7iCiGme3xrFFxKmo_TxsRm2Y03iRdHn8MpOS6NrOUQRooAuDBYJjq_QUiMSTmYGxMb8flamAB-ZXE3pH8Xo4CSeSuFRffCBUKq1ZC78_dJKhB7LXY3ASk4buJW_4u7owc_2Em2eF0P8sIycZzG9-anGH7K2qz_Z7dE-faYU_YIq5_rL-Jl3HkswwtFQBb3d4LPFzMLOAJymY2HWZwPogc2oR4-RVeHzU9nIFJw6VPcLdJ3cKP9VzwlqBxI-y7WUoA3k7P_jCR5Cxc9HNKELOGaOH-4CQOFB062dP5ybeSHJXcDSqAEGAlOfjAcbrtYh37lP1t7mMXLd2PktUXrNlQjSKmq3XadQvqY_2p8JNwtjAboasTKSQc60apQ8QPlwWeCgidznV0MH3ahx43flb4sZtR53H5dwR5-Y7HpaD_kjkVnglrQg0Vehs1HP6jiL86ZKUSeLLV-J5i3v5i_q9P3TQVusMYNEjdsRt3pkfqHGRRCp7P8Dx7eK5ObUbf53ncQpx6oig9YXAEX5nDGJDKvrRxp3q9n-v6kL35RhVSOZ_mRwUDLFsiGKd6gQX9asgiFYqggU3FophnqSCVDDMjrHoWB6-JevNtktbl0VISHCp8DxSCL9wrmL0ky7wgv_KU_cMmpoENRwaLlmKLtnECbptK4cHq-BJOkRjZFZA1_ZWZSiy_F3YoRZM3GNcXU6FxK0mY8t8LHmOQdYgY2vLdYBytVvy_7tU='\n",
      "File encrypted successfully!\n"
     ]
    }
   ],
   "source": [
    "#Encrypting the CSV File\n",
    "with open(\"encryption_key.key\", \"rb\") as file_key:\n",
    "    key=file_key.read()\n",
    "\n",
    "cipher=Fernet(key)\n",
    "# Fernet(key): Creates an encryption tool (cipher) using the key.\n",
    "# cipher     : This variable stores the encryption tool that can encrypt and decrypt data.\n",
    "\n",
    "with open(\"AAPL_stock_data.csv\",\"rb\") as file:\n",
    "    data_file=file.read()\n",
    "\n",
    "encrypted_data=cipher.encrypt(data_file)\n",
    "#encrypt() takes binary data (that's why b\"My secret data\" has a b prefix).\n",
    "# encrypted_data = It returns an encrypted version of the data.\n",
    "print(encrypted_data)\n",
    "\n",
    "with open(\"apple_stock_data_encrypted.csv\",\"wb\") as encrypted_file:\n",
    "     encrypted_file.write(encrypted_data)\n",
    "\n",
    "print(\"File encrypted successfully!\")"
   ]
  },
  {
   "cell_type": "code",
   "execution_count": 11,
   "id": "e209403f-65de-42b1-98e6-b64faca29088",
   "metadata": {},
   "outputs": [
    {
     "name": "stdout",
     "output_type": "stream",
     "text": [
      "File decrypted successfully!\n"
     ]
    }
   ],
   "source": [
    "# Loading the encryption key to a file\n",
    "with open(\"encryption_key.key\", \"rb\") as key_file:\n",
    "    key = key_file.read()\n",
    "\n",
    "cipher_suite = Fernet(key)\n",
    "\n",
    "# Reading the encrypted file\n",
    "with open(\"apple_stock_data_encrypted.csv\", \"rb\") as encrypted_file:\n",
    "    encrypted_data = encrypted_file.read()\n",
    "\n",
    "# Decrypting the data\n",
    "decrypted_data = cipher_suite.decrypt(encrypted_data)\n",
    "#decrypt() turns the decrypted_data text back into the original plain text.\n",
    "#print(decrypted_data)\n",
    "\n",
    "# Saving as a new decrypted CSV\n",
    "with open(\"apple_stock_data_decrypted.csv\", \"wb\") as decrypted_file:\n",
    "    decrypted_file.write(decrypted_data)\n",
    "\n",
    "print(\"File decrypted successfully!\")\n"
   ]
  },
  {
   "cell_type": "code",
   "execution_count": null,
   "id": "7db69684-bdcb-4b75-a193-5cf856fc2b4b",
   "metadata": {},
   "outputs": [],
   "source": []
  }
 ],
 "metadata": {
  "kernelspec": {
   "display_name": "Python 3 (ipykernel)",
   "language": "python",
   "name": "python3"
  },
  "language_info": {
   "codemirror_mode": {
    "name": "ipython",
    "version": 3
   },
   "file_extension": ".py",
   "mimetype": "text/x-python",
   "name": "python",
   "nbconvert_exporter": "python",
   "pygments_lexer": "ipython3",
   "version": "3.13.1"
  }
 },
 "nbformat": 4,
 "nbformat_minor": 5
}
