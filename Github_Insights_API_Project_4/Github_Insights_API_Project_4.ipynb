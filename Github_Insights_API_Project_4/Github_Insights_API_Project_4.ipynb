{
 "cells": [
  {
   "cell_type": "raw",
   "id": "83d959c0-ad81-43ab-a177-53a9c9870527",
   "metadata": {},
   "source": [
    "Project Overview::\n",
    "\n",
    "1.Extract GitHub repository data using the GitHub API.\n",
    "2.Transform and clean the data.\n",
    "3.Load (ETL) the data into SQLite/PostgreSQL.\n",
    "4.Visualize insights in Tableau (e.g., number of repositories, top contributors, language usage, etc.).\n"
   ]
  },
  {
   "cell_type": "code",
   "execution_count": 1,
   "id": "e0855fb0-013f-400d-b59e-97d26f54e2d3",
   "metadata": {},
   "outputs": [],
   "source": [
    "import requests\n",
    "import os\n",
    "import pandas as pd\n",
    "import json\n",
    "import csv\n",
    "import sqlite3\n",
    "from datetime import datetime "
   ]
  },
  {
   "cell_type": "code",
   "execution_count": 2,
   "id": "96cdd8c8-9a2b-40da-9449-c1c3135b054e",
   "metadata": {},
   "outputs": [
    {
     "name": "stdout",
     "output_type": "stream",
     "text": [
      "<Response [200]>\n",
      "<Response [200]>\n",
      "[\n",
      "    {\n",
      "        \"id\": 904493648,\n",
      "        \"node_id\": \"R_kgDONel6UA\",\n",
      "        \"name\": \"pandas_exercises\",\n",
      "        \"full_name\": \"Aadi6182831/pandas_exercises\",\n",
      "        \"private\": false,\n",
      "        \"owner\": {\n",
      "            \"login\": \"Aadi6182831\",\n",
      "            \"id\": 189071221,\n",
      "            \"node_id\": \"U_kgDOC0T_dQ\",\n",
      "            \"avatar_url\": \"https://avatars.githubusercontent.com/u/189071221?v=4\",\n",
      "            \"gravatar_id\": \"\",\n",
      "            \"url\": \"https://api.github.com/users/Aadi6182831\",\n",
      "            \"html_url\": \"https://github.com/Aadi6182831\",\n",
      "            \"followers_url\": \"https://api.github.com/users/Aadi6182831/followers\",\n",
      "            \"following_url\": \"https://api.github.com/users/Aadi6182831/following{/other_user}\",\n",
      "            \"gists_url\": \"https://api.github.com/users/Aadi6182831/gists{/gist_id}\",\n",
      "            \"starred_url\": \"https://api.github.com/users/Aadi6182831/starred{/owner}{/repo}\",\n",
      "            \"subscriptions_url\": \"https://api.github.com/users/Aadi6182831/subscriptions\",\n",
      "            \"organizations_url\": \"https://api.github.com/users/Aadi6182831/orgs\",\n",
      "            \"repos_url\": \"https://api.github.com/users/Aadi6182831/repos\",\n",
      "            \"events_url\": \"https://api.github.com/users/Aadi6182831/events{/privacy}\",\n",
      "            \"received_events_url\": \"https://api.github.com/users/Aadi6182831/received_events\",\n",
      "            \"type\": \"User\",\n",
      "            \"user_view_type\": \"public\",\n",
      "            \"site_admin\": false\n",
      "        },\n",
      "        \"html_url\": \"https://github.com/Aadi6182831/pandas_exercises\",\n",
      "        \"description\": \"Practice your pandas skills!\",\n",
      "        \"fork\": true,\n",
      "        \"url\": \"https://api.github.com/repos/Aadi6182831/pandas_exercises\",\n",
      "        \"forks_url\": \"https://api.github.com/repos/Aadi6182831/pandas_exercises/forks\",\n",
      "        \"keys_url\": \"https://api.github.com/repos/Aadi6182831/pandas_exercises/keys{/key_id}\",\n",
      "        \"collaborators_url\": \"https://api.github.com/repos/Aadi6182831/pandas_exercises/collaborators{/collaborator}\",\n",
      "        \"teams_url\": \"https://api.github.com/repos/Aadi6182831/pandas_exercises/teams\",\n",
      "        \"hooks_url\": \"https://api.github.com/repos/Aadi6182831/pandas_exercises/hooks\",\n",
      "        \"issue_events_url\": \"https://api.github.com/repos/Aadi6182831/pandas_exercises/issues/events{/number}\",\n",
      "        \"events_url\": \"https://api.github.com/repos/Aadi6182831/pandas_exercises/events\",\n",
      "        \"assignees_url\": \"https://api.github.com/repos/Aadi6182831/pandas_exercises/assignees{/user}\",\n",
      "        \"branches_url\": \"https://api.github.com/repos/Aadi6182831/pandas_exercises/branches{/branch}\",\n",
      "        \"tags_url\": \"https://api.github.com/repos/Aadi6182831/pandas_exercises/tags\",\n",
      "        \"blobs_url\": \"https://api.github.com/repos/Aadi6182831/pandas_exercises/git/blobs{/sha}\",\n",
      "        \"git_tags_url\": \"https://api.github.com/repos/Aadi6182831/pandas_exercises/git/tags{/sha}\",\n",
      "        \"git_refs_url\": \"https://api.github.com/repos/Aadi6182831/pandas_exercises/git/refs{/sha}\",\n",
      "        \"trees_url\": \"https://api.github.com/repos/Aadi6182831/pandas_exercises/git/trees{/sha}\",\n",
      "        \"statuses_url\": \"https://api.github.com/repos/Aadi6182831/pandas_exercises/statuses/{sha}\",\n",
      "        \"languages_url\": \"https://api.github.com/repos/Aadi6182831/pandas_exercises/languages\",\n",
      "        \"stargazers_url\": \"https://api.github.com/repos/Aadi6182831/pandas_exercises/stargazers\",\n",
      "        \"contributors_url\": \"https://api.github.com/repos/Aadi6182831/pandas_exercises/contributors\",\n",
      "        \"subscribers_url\": \"https://api.github.com/repos/Aadi6182831/pandas_exercises/subscribers\",\n",
      "        \"subscription_url\": \"https://api.github.com/repos/Aadi6182831/pandas_exercises/subscription\",\n",
      "        \"commits_url\": \"https://api.github.com/repos/Aadi6182831/pandas_exercises/commits{/sha}\",\n",
      "        \"git_commits_url\": \"https://api.github.com/repos/Aadi6182831/pandas_exercises/git/commits{/sha}\",\n",
      "        \"comments_url\": \"https://api.github.com/repos/Aadi6182831/pandas_exercises/comments{/number}\",\n",
      "        \"issue_comment_url\": \"https://api.github.com/repos/Aadi6182831/pandas_exercises/issues/comments{/number}\",\n",
      "        \"contents_url\": \"https://api.github.com/repos/Aadi6182831/pandas_exercises/contents/{+path}\",\n",
      "        \"compare_url\": \"https://api.github.com/repos/Aadi6182831/pandas_exercises/compare/{base}...{head}\",\n",
      "        \"merges_url\": \"https://api.github.com/repos/Aadi6182831/pandas_exercises/merges\",\n",
      "        \"archive_url\": \"https://api.github.com/repos/Aadi6182831/pandas_exercises/{archive_format}{/ref}\",\n",
      "        \"downloads_url\": \"https://api.github.com/repos/Aadi6182831/pandas_exercises/downloads\",\n",
      "        \"issues_url\": \"https://api.github.com/repos/Aadi6182831/pandas_exercises/issues{/number}\",\n",
      "        \"pulls_url\": \"https://api.github.com/repos/Aadi6182831/pandas_exercises/pulls{/number}\",\n",
      "        \"milestones_url\": \"https://api.github.com/repos/Aadi6182831/pandas_exercises/milestones{/number}\",\n",
      "        \"notifications_url\": \"https://api.github.com/repos/Aadi6182831/pandas_exercises/notifications{?since,all,participating}\",\n",
      "        \"labels_url\": \"https://api.github.com/repos/Aadi6182831/pandas_exercises/labels{/name}\",\n",
      "        \"releases_url\": \"https://api.github.com/repos/Aadi6182831/pandas_exercises/releases{/id}\",\n",
      "        \"deployments_url\": \"https://api.github.com/repos/Aadi6182831/pandas_exercises/deployments\",\n",
      "        \"created_at\": \"2024-12-17T02:11:38Z\",\n",
      "        \"updated_at\": \"2024-12-17T02:11:38Z\",\n",
      "        \"pushed_at\": \"2024-08-16T12:24:00Z\",\n",
      "        \"git_url\": \"git://github.com/Aadi6182831/pandas_exercises.git\",\n",
      "        \"ssh_url\": \"git@github.com:Aadi6182831/pandas_exercises.git\",\n",
      "        \"clone_url\": \"https://github.com/Aadi6182831/pandas_exercises.git\",\n",
      "        \"svn_url\": \"https://github.com/Aadi6182831/pandas_exercises\",\n",
      "        \"homepage\": \"\",\n",
      "        \"size\": 18337,\n",
      "        \"stargazers_count\": 0,\n",
      "        \"watchers_count\": 0,\n",
      "        \"language\": null,\n",
      "        \"has_issues\": false,\n",
      "        \"has_projects\": true,\n",
      "        \"has_downloads\": true,\n",
      "        \"has_wiki\": true,\n",
      "        \"has_pages\": false,\n",
      "        \"has_discussions\": false,\n",
      "        \"forks_count\": 0,\n",
      "        \"mirror_url\": null,\n",
      "        \"archived\": false,\n",
      "        \"disabled\": false,\n",
      "        \"open_issues_count\": 0,\n",
      "        \"license\": {\n",
      "            \"key\": \"bsd-3-clause\",\n",
      "            \"name\": \"BSD 3-Clause \\\"New\\\" or \\\"Revised\\\" License\",\n",
      "            \"spdx_id\": \"BSD-3-Clause\",\n",
      "            \"url\": \"https://api.github.com/licenses/bsd-3-clause\",\n",
      "            \"node_id\": \"MDc6TGljZW5zZTU=\"\n",
      "        },\n",
      "        \"allow_forking\": true,\n",
      "        \"is_template\": false,\n",
      "        \"web_commit_signoff_required\": false,\n",
      "        \"topics\": [],\n",
      "        \"visibility\": \"public\",\n",
      "        \"forks\": 0,\n",
      "        \"open_issues\": 0,\n",
      "        \"watchers\": 0,\n",
      "        \"default_branch\": \"master\"\n",
      "    },\n",
      "    {\n",
      "        \"id\": 905032955,\n",
      "        \"node_id\": \"R_kgDONfG0-w\",\n",
      "        \"name\": \"python_essentials_for_data_engineers\",\n",
      "        \"full_name\": \"Aadi6182831/python_essentials_for_data_engineers\",\n",
      "        \"private\": false,\n",
      "        \"owner\": {\n",
      "            \"login\": \"Aadi6182831\",\n",
      "            \"id\": 189071221,\n",
      "            \"node_id\": \"U_kgDOC0T_dQ\",\n",
      "            \"avatar_url\": \"https://avatars.githubusercontent.com/u/189071221?v=4\",\n",
      "            \"gravatar_id\": \"\",\n",
      "            \"url\": \"https://api.github.com/users/Aadi6182831\",\n",
      "            \"html_url\": \"https://github.com/Aadi6182831\",\n",
      "            \"followers_url\": \"https://api.github.com/users/Aadi6182831/followers\",\n",
      "            \"following_url\": \"https://api.github.com/users/Aadi6182831/following{/other_user}\",\n",
      "            \"gists_url\": \"https://api.github.com/users/Aadi6182831/gists{/gist_id}\",\n",
      "            \"starred_url\": \"https://api.github.com/users/Aadi6182831/starred{/owner}{/repo}\",\n",
      "            \"subscriptions_url\": \"https://api.github.com/users/Aadi6182831/subscriptions\",\n",
      "            \"organizations_url\": \"https://api.github.com/users/Aadi6182831/orgs\",\n",
      "            \"repos_url\": \"https://api.github.com/users/Aadi6182831/repos\",\n",
      "            \"events_url\": \"https://api.github.com/users/Aadi6182831/events{/privacy}\",\n",
      "            \"received_events_url\": \"https://api.github.com/users/Aadi6182831/received_events\",\n",
      "            \"type\": \"User\",\n",
      "            \"user_view_type\": \"public\",\n",
      "            \"site_admin\": false\n",
      "        },\n",
      "        \"html_url\": \"https://github.com/Aadi6182831/python_essentials_for_data_engineers\",\n",
      "        \"description\": \"Code for blog at https://www.startdataengineering.com/post/python-for-de/\",\n",
      "        \"fork\": true,\n",
      "        \"url\": \"https://api.github.com/repos/Aadi6182831/python_essentials_for_data_engineers\",\n",
      "        \"forks_url\": \"https://api.github.com/repos/Aadi6182831/python_essentials_for_data_engineers/forks\",\n",
      "        \"keys_url\": \"https://api.github.com/repos/Aadi6182831/python_essentials_for_data_engineers/keys{/key_id}\",\n",
      "        \"collaborators_url\": \"https://api.github.com/repos/Aadi6182831/python_essentials_for_data_engineers/collaborators{/collaborator}\",\n",
      "        \"teams_url\": \"https://api.github.com/repos/Aadi6182831/python_essentials_for_data_engineers/teams\",\n",
      "        \"hooks_url\": \"https://api.github.com/repos/Aadi6182831/python_essentials_for_data_engineers/hooks\",\n",
      "        \"issue_events_url\": \"https://api.github.com/repos/Aadi6182831/python_essentials_for_data_engineers/issues/events{/number}\",\n",
      "        \"events_url\": \"https://api.github.com/repos/Aadi6182831/python_essentials_for_data_engineers/events\",\n",
      "        \"assignees_url\": \"https://api.github.com/repos/Aadi6182831/python_essentials_for_data_engineers/assignees{/user}\",\n",
      "        \"branches_url\": \"https://api.github.com/repos/Aadi6182831/python_essentials_for_data_engineers/branches{/branch}\",\n",
      "        \"tags_url\": \"https://api.github.com/repos/Aadi6182831/python_essentials_for_data_engineers/tags\",\n",
      "        \"blobs_url\": \"https://api.github.com/repos/Aadi6182831/python_essentials_for_data_engineers/git/blobs{/sha}\",\n",
      "        \"git_tags_url\": \"https://api.github.com/repos/Aadi6182831/python_essentials_for_data_engineers/git/tags{/sha}\",\n",
      "        \"git_refs_url\": \"https://api.github.com/repos/Aadi6182831/python_essentials_for_data_engineers/git/refs{/sha}\",\n",
      "        \"trees_url\": \"https://api.github.com/repos/Aadi6182831/python_essentials_for_data_engineers/git/trees{/sha}\",\n",
      "        \"statuses_url\": \"https://api.github.com/repos/Aadi6182831/python_essentials_for_data_engineers/statuses/{sha}\",\n",
      "        \"languages_url\": \"https://api.github.com/repos/Aadi6182831/python_essentials_for_data_engineers/languages\",\n",
      "        \"stargazers_url\": \"https://api.github.com/repos/Aadi6182831/python_essentials_for_data_engineers/stargazers\",\n",
      "        \"contributors_url\": \"https://api.github.com/repos/Aadi6182831/python_essentials_for_data_engineers/contributors\",\n",
      "        \"subscribers_url\": \"https://api.github.com/repos/Aadi6182831/python_essentials_for_data_engineers/subscribers\",\n",
      "        \"subscription_url\": \"https://api.github.com/repos/Aadi6182831/python_essentials_for_data_engineers/subscription\",\n",
      "        \"commits_url\": \"https://api.github.com/repos/Aadi6182831/python_essentials_for_data_engineers/commits{/sha}\",\n",
      "        \"git_commits_url\": \"https://api.github.com/repos/Aadi6182831/python_essentials_for_data_engineers/git/commits{/sha}\",\n",
      "        \"comments_url\": \"https://api.github.com/repos/Aadi6182831/python_essentials_for_data_engineers/comments{/number}\",\n",
      "        \"issue_comment_url\": \"https://api.github.com/repos/Aadi6182831/python_essentials_for_data_engineers/issues/comments{/number}\",\n",
      "        \"contents_url\": \"https://api.github.com/repos/Aadi6182831/python_essentials_for_data_engineers/contents/{+path}\",\n",
      "        \"compare_url\": \"https://api.github.com/repos/Aadi6182831/python_essentials_for_data_engineers/compare/{base}...{head}\",\n",
      "        \"merges_url\": \"https://api.github.com/repos/Aadi6182831/python_essentials_for_data_engineers/merges\",\n",
      "        \"archive_url\": \"https://api.github.com/repos/Aadi6182831/python_essentials_for_data_engineers/{archive_format}{/ref}\",\n",
      "        \"downloads_url\": \"https://api.github.com/repos/Aadi6182831/python_essentials_for_data_engineers/downloads\",\n",
      "        \"issues_url\": \"https://api.github.com/repos/Aadi6182831/python_essentials_for_data_engineers/issues{/number}\",\n",
      "        \"pulls_url\": \"https://api.github.com/repos/Aadi6182831/python_essentials_for_data_engineers/pulls{/number}\",\n",
      "        \"milestones_url\": \"https://api.github.com/repos/Aadi6182831/python_essentials_for_data_engineers/milestones{/number}\",\n",
      "        \"notifications_url\": \"https://api.github.com/repos/Aadi6182831/python_essentials_for_data_engineers/notifications{?since,all,participating}\",\n",
      "        \"labels_url\": \"https://api.github.com/repos/Aadi6182831/python_essentials_for_data_engineers/labels{/name}\",\n",
      "        \"releases_url\": \"https://api.github.com/repos/Aadi6182831/python_essentials_for_data_engineers/releases{/id}\",\n",
      "        \"deployments_url\": \"https://api.github.com/repos/Aadi6182831/python_essentials_for_data_engineers/deployments\",\n",
      "        \"created_at\": \"2024-12-18T02:59:48Z\",\n",
      "        \"updated_at\": \"2024-12-18T22:29:24Z\",\n",
      "        \"pushed_at\": \"2024-12-18T22:29:20Z\",\n",
      "        \"git_url\": \"git://github.com/Aadi6182831/python_essentials_for_data_engineers.git\",\n",
      "        \"ssh_url\": \"git@github.com:Aadi6182831/python_essentials_for_data_engineers.git\",\n",
      "        \"clone_url\": \"https://github.com/Aadi6182831/python_essentials_for_data_engineers.git\",\n",
      "        \"svn_url\": \"https://github.com/Aadi6182831/python_essentials_for_data_engineers\",\n",
      "        \"homepage\": \"https://www.startdataengineering.com/post/python-for-de/\",\n",
      "        \"size\": 416,\n",
      "        \"stargazers_count\": 0,\n",
      "        \"watchers_count\": 0,\n",
      "        \"language\": \"Python\",\n",
      "        \"has_issues\": false,\n",
      "        \"has_projects\": true,\n",
      "        \"has_downloads\": true,\n",
      "        \"has_wiki\": true,\n",
      "        \"has_pages\": false,\n",
      "        \"has_discussions\": false,\n",
      "        \"forks_count\": 0,\n",
      "        \"mirror_url\": null,\n",
      "        \"archived\": false,\n",
      "        \"disabled\": false,\n",
      "        \"open_issues_count\": 0,\n",
      "        \"license\": null,\n",
      "        \"allow_forking\": true,\n",
      "        \"is_template\": false,\n",
      "        \"web_commit_signoff_required\": false,\n",
      "        \"topics\": [],\n",
      "        \"visibility\": \"public\",\n",
      "        \"forks\": 0,\n",
      "        \"open_issues\": 0,\n",
      "        \"watchers\": 0,\n",
      "        \"default_branch\": \"main\"\n",
      "    }\n",
      "]\n"
     ]
    }
   ],
   "source": [
    "#1 Extracting the data from github API\n",
    "username =\"Aadi6182831\"\n",
    "API = os.environ.get('GITHUB_API_KEY')\n",
    "url=f\"https://api.github.com/users/{username}/repos\"\n",
    "header={\"Authentication\":f\"token {API}\"}\n",
    "\n",
    "response= requests.get(url,headers=header)\n",
    "print(requests.get(url,headers=header)) #it gives only status_codes , nothing it results\n",
    "print(response) #prints the same which we assigned of HTTP method status code\n",
    "Data=response.json() #data which is resulted from HTTP method is in json and that json is converting into python object directly(list or dictionary)\n",
    "data=json.dumps(Data[:3],indent=4)#dictionary or list data is converting into json and viweing only 3 rows .This json data can be used for API POST requests for loading data.\n",
    "print(data)"
   ]
  },
  {
   "cell_type": "code",
   "execution_count": 3,
   "id": "72c0e5a1-60cc-4b68-bae5-61fc6e45bb89",
   "metadata": {},
   "outputs": [
    {
     "name": "stdout",
     "output_type": "stream",
     "text": [
      "[{'id': 904493648, 'node_id': 'R_kgDONel6UA', 'name': 'pandas_exercises', 'full_name': 'Aadi6182831/pandas_exercises', 'private': False, 'owner': {'login': 'Aadi6182831', 'id': 189071221, 'node_id': 'U_kgDOC0T_dQ', 'avatar_url': 'https://avatars.githubusercontent.com/u/189071221?v=4', 'gravatar_id': '', 'url': 'https://api.github.com/users/Aadi6182831', 'html_url': 'https://github.com/Aadi6182831', 'followers_url': 'https://api.github.com/users/Aadi6182831/followers', 'following_url': 'https://api.github.com/users/Aadi6182831/following{/other_user}', 'gists_url': 'https://api.github.com/users/Aadi6182831/gists{/gist_id}', 'starred_url': 'https://api.github.com/users/Aadi6182831/starred{/owner}{/repo}', 'subscriptions_url': 'https://api.github.com/users/Aadi6182831/subscriptions', 'organizations_url': 'https://api.github.com/users/Aadi6182831/orgs', 'repos_url': 'https://api.github.com/users/Aadi6182831/repos', 'events_url': 'https://api.github.com/users/Aadi6182831/events{/privacy}', 'received_events_url': 'https://api.github.com/users/Aadi6182831/received_events', 'type': 'User', 'user_view_type': 'public', 'site_admin': False}, 'html_url': 'https://github.com/Aadi6182831/pandas_exercises', 'description': 'Practice your pandas skills!', 'fork': True, 'url': 'https://api.github.com/repos/Aadi6182831/pandas_exercises', 'forks_url': 'https://api.github.com/repos/Aadi6182831/pandas_exercises/forks', 'keys_url': 'https://api.github.com/repos/Aadi6182831/pandas_exercises/keys{/key_id}', 'collaborators_url': 'https://api.github.com/repos/Aadi6182831/pandas_exercises/collaborators{/collaborator}', 'teams_url': 'https://api.github.com/repos/Aadi6182831/pandas_exercises/teams', 'hooks_url': 'https://api.github.com/repos/Aadi6182831/pandas_exercises/hooks', 'issue_events_url': 'https://api.github.com/repos/Aadi6182831/pandas_exercises/issues/events{/number}', 'events_url': 'https://api.github.com/repos/Aadi6182831/pandas_exercises/events', 'assignees_url': 'https://api.github.com/repos/Aadi6182831/pandas_exercises/assignees{/user}', 'branches_url': 'https://api.github.com/repos/Aadi6182831/pandas_exercises/branches{/branch}', 'tags_url': 'https://api.github.com/repos/Aadi6182831/pandas_exercises/tags', 'blobs_url': 'https://api.github.com/repos/Aadi6182831/pandas_exercises/git/blobs{/sha}', 'git_tags_url': 'https://api.github.com/repos/Aadi6182831/pandas_exercises/git/tags{/sha}', 'git_refs_url': 'https://api.github.com/repos/Aadi6182831/pandas_exercises/git/refs{/sha}', 'trees_url': 'https://api.github.com/repos/Aadi6182831/pandas_exercises/git/trees{/sha}', 'statuses_url': 'https://api.github.com/repos/Aadi6182831/pandas_exercises/statuses/{sha}', 'languages_url': 'https://api.github.com/repos/Aadi6182831/pandas_exercises/languages', 'stargazers_url': 'https://api.github.com/repos/Aadi6182831/pandas_exercises/stargazers', 'contributors_url': 'https://api.github.com/repos/Aadi6182831/pandas_exercises/contributors', 'subscribers_url': 'https://api.github.com/repos/Aadi6182831/pandas_exercises/subscribers', 'subscription_url': 'https://api.github.com/repos/Aadi6182831/pandas_exercises/subscription', 'commits_url': 'https://api.github.com/repos/Aadi6182831/pandas_exercises/commits{/sha}', 'git_commits_url': 'https://api.github.com/repos/Aadi6182831/pandas_exercises/git/commits{/sha}', 'comments_url': 'https://api.github.com/repos/Aadi6182831/pandas_exercises/comments{/number}', 'issue_comment_url': 'https://api.github.com/repos/Aadi6182831/pandas_exercises/issues/comments{/number}', 'contents_url': 'https://api.github.com/repos/Aadi6182831/pandas_exercises/contents/{+path}', 'compare_url': 'https://api.github.com/repos/Aadi6182831/pandas_exercises/compare/{base}...{head}', 'merges_url': 'https://api.github.com/repos/Aadi6182831/pandas_exercises/merges', 'archive_url': 'https://api.github.com/repos/Aadi6182831/pandas_exercises/{archive_format}{/ref}', 'downloads_url': 'https://api.github.com/repos/Aadi6182831/pandas_exercises/downloads', 'issues_url': 'https://api.github.com/repos/Aadi6182831/pandas_exercises/issues{/number}', 'pulls_url': 'https://api.github.com/repos/Aadi6182831/pandas_exercises/pulls{/number}', 'milestones_url': 'https://api.github.com/repos/Aadi6182831/pandas_exercises/milestones{/number}', 'notifications_url': 'https://api.github.com/repos/Aadi6182831/pandas_exercises/notifications{?since,all,participating}', 'labels_url': 'https://api.github.com/repos/Aadi6182831/pandas_exercises/labels{/name}', 'releases_url': 'https://api.github.com/repos/Aadi6182831/pandas_exercises/releases{/id}', 'deployments_url': 'https://api.github.com/repos/Aadi6182831/pandas_exercises/deployments', 'created_at': '2024-12-17T02:11:38Z', 'updated_at': '2024-12-17T02:11:38Z', 'pushed_at': '2024-08-16T12:24:00Z', 'git_url': 'git://github.com/Aadi6182831/pandas_exercises.git', 'ssh_url': 'git@github.com:Aadi6182831/pandas_exercises.git', 'clone_url': 'https://github.com/Aadi6182831/pandas_exercises.git', 'svn_url': 'https://github.com/Aadi6182831/pandas_exercises', 'homepage': '', 'size': 18337, 'stargazers_count': 0, 'watchers_count': 0, 'language': None, 'has_issues': False, 'has_projects': True, 'has_downloads': True, 'has_wiki': True, 'has_pages': False, 'has_discussions': False, 'forks_count': 0, 'mirror_url': None, 'archived': False, 'disabled': False, 'open_issues_count': 0, 'license': {'key': 'bsd-3-clause', 'name': 'BSD 3-Clause \"New\" or \"Revised\" License', 'spdx_id': 'BSD-3-Clause', 'url': 'https://api.github.com/licenses/bsd-3-clause', 'node_id': 'MDc6TGljZW5zZTU='}, 'allow_forking': True, 'is_template': False, 'web_commit_signoff_required': False, 'topics': [], 'visibility': 'public', 'forks': 0, 'open_issues': 0, 'watchers': 0, 'default_branch': 'master'}, {'id': 905032955, 'node_id': 'R_kgDONfG0-w', 'name': 'python_essentials_for_data_engineers', 'full_name': 'Aadi6182831/python_essentials_for_data_engineers', 'private': False, 'owner': {'login': 'Aadi6182831', 'id': 189071221, 'node_id': 'U_kgDOC0T_dQ', 'avatar_url': 'https://avatars.githubusercontent.com/u/189071221?v=4', 'gravatar_id': '', 'url': 'https://api.github.com/users/Aadi6182831', 'html_url': 'https://github.com/Aadi6182831', 'followers_url': 'https://api.github.com/users/Aadi6182831/followers', 'following_url': 'https://api.github.com/users/Aadi6182831/following{/other_user}', 'gists_url': 'https://api.github.com/users/Aadi6182831/gists{/gist_id}', 'starred_url': 'https://api.github.com/users/Aadi6182831/starred{/owner}{/repo}', 'subscriptions_url': 'https://api.github.com/users/Aadi6182831/subscriptions', 'organizations_url': 'https://api.github.com/users/Aadi6182831/orgs', 'repos_url': 'https://api.github.com/users/Aadi6182831/repos', 'events_url': 'https://api.github.com/users/Aadi6182831/events{/privacy}', 'received_events_url': 'https://api.github.com/users/Aadi6182831/received_events', 'type': 'User', 'user_view_type': 'public', 'site_admin': False}, 'html_url': 'https://github.com/Aadi6182831/python_essentials_for_data_engineers', 'description': 'Code for blog at https://www.startdataengineering.com/post/python-for-de/', 'fork': True, 'url': 'https://api.github.com/repos/Aadi6182831/python_essentials_for_data_engineers', 'forks_url': 'https://api.github.com/repos/Aadi6182831/python_essentials_for_data_engineers/forks', 'keys_url': 'https://api.github.com/repos/Aadi6182831/python_essentials_for_data_engineers/keys{/key_id}', 'collaborators_url': 'https://api.github.com/repos/Aadi6182831/python_essentials_for_data_engineers/collaborators{/collaborator}', 'teams_url': 'https://api.github.com/repos/Aadi6182831/python_essentials_for_data_engineers/teams', 'hooks_url': 'https://api.github.com/repos/Aadi6182831/python_essentials_for_data_engineers/hooks', 'issue_events_url': 'https://api.github.com/repos/Aadi6182831/python_essentials_for_data_engineers/issues/events{/number}', 'events_url': 'https://api.github.com/repos/Aadi6182831/python_essentials_for_data_engineers/events', 'assignees_url': 'https://api.github.com/repos/Aadi6182831/python_essentials_for_data_engineers/assignees{/user}', 'branches_url': 'https://api.github.com/repos/Aadi6182831/python_essentials_for_data_engineers/branches{/branch}', 'tags_url': 'https://api.github.com/repos/Aadi6182831/python_essentials_for_data_engineers/tags', 'blobs_url': 'https://api.github.com/repos/Aadi6182831/python_essentials_for_data_engineers/git/blobs{/sha}', 'git_tags_url': 'https://api.github.com/repos/Aadi6182831/python_essentials_for_data_engineers/git/tags{/sha}', 'git_refs_url': 'https://api.github.com/repos/Aadi6182831/python_essentials_for_data_engineers/git/refs{/sha}', 'trees_url': 'https://api.github.com/repos/Aadi6182831/python_essentials_for_data_engineers/git/trees{/sha}', 'statuses_url': 'https://api.github.com/repos/Aadi6182831/python_essentials_for_data_engineers/statuses/{sha}', 'languages_url': 'https://api.github.com/repos/Aadi6182831/python_essentials_for_data_engineers/languages', 'stargazers_url': 'https://api.github.com/repos/Aadi6182831/python_essentials_for_data_engineers/stargazers', 'contributors_url': 'https://api.github.com/repos/Aadi6182831/python_essentials_for_data_engineers/contributors', 'subscribers_url': 'https://api.github.com/repos/Aadi6182831/python_essentials_for_data_engineers/subscribers', 'subscription_url': 'https://api.github.com/repos/Aadi6182831/python_essentials_for_data_engineers/subscription', 'commits_url': 'https://api.github.com/repos/Aadi6182831/python_essentials_for_data_engineers/commits{/sha}', 'git_commits_url': 'https://api.github.com/repos/Aadi6182831/python_essentials_for_data_engineers/git/commits{/sha}', 'comments_url': 'https://api.github.com/repos/Aadi6182831/python_essentials_for_data_engineers/comments{/number}', 'issue_comment_url': 'https://api.github.com/repos/Aadi6182831/python_essentials_for_data_engineers/issues/comments{/number}', 'contents_url': 'https://api.github.com/repos/Aadi6182831/python_essentials_for_data_engineers/contents/{+path}', 'compare_url': 'https://api.github.com/repos/Aadi6182831/python_essentials_for_data_engineers/compare/{base}...{head}', 'merges_url': 'https://api.github.com/repos/Aadi6182831/python_essentials_for_data_engineers/merges', 'archive_url': 'https://api.github.com/repos/Aadi6182831/python_essentials_for_data_engineers/{archive_format}{/ref}', 'downloads_url': 'https://api.github.com/repos/Aadi6182831/python_essentials_for_data_engineers/downloads', 'issues_url': 'https://api.github.com/repos/Aadi6182831/python_essentials_for_data_engineers/issues{/number}', 'pulls_url': 'https://api.github.com/repos/Aadi6182831/python_essentials_for_data_engineers/pulls{/number}', 'milestones_url': 'https://api.github.com/repos/Aadi6182831/python_essentials_for_data_engineers/milestones{/number}', 'notifications_url': 'https://api.github.com/repos/Aadi6182831/python_essentials_for_data_engineers/notifications{?since,all,participating}', 'labels_url': 'https://api.github.com/repos/Aadi6182831/python_essentials_for_data_engineers/labels{/name}', 'releases_url': 'https://api.github.com/repos/Aadi6182831/python_essentials_for_data_engineers/releases{/id}', 'deployments_url': 'https://api.github.com/repos/Aadi6182831/python_essentials_for_data_engineers/deployments', 'created_at': '2024-12-18T02:59:48Z', 'updated_at': '2024-12-18T22:29:24Z', 'pushed_at': '2024-12-18T22:29:20Z', 'git_url': 'git://github.com/Aadi6182831/python_essentials_for_data_engineers.git', 'ssh_url': 'git@github.com:Aadi6182831/python_essentials_for_data_engineers.git', 'clone_url': 'https://github.com/Aadi6182831/python_essentials_for_data_engineers.git', 'svn_url': 'https://github.com/Aadi6182831/python_essentials_for_data_engineers', 'homepage': 'https://www.startdataengineering.com/post/python-for-de/', 'size': 416, 'stargazers_count': 0, 'watchers_count': 0, 'language': 'Python', 'has_issues': False, 'has_projects': True, 'has_downloads': True, 'has_wiki': True, 'has_pages': False, 'has_discussions': False, 'forks_count': 0, 'mirror_url': None, 'archived': False, 'disabled': False, 'open_issues_count': 0, 'license': None, 'allow_forking': True, 'is_template': False, 'web_commit_signoff_required': False, 'topics': [], 'visibility': 'public', 'forks': 0, 'open_issues': 0, 'watchers': 0, 'default_branch': 'main'}]\n"
     ]
    }
   ],
   "source": [
    "doit=json.loads(data) # json string format is converting into python object.\n",
    "print(doit)"
   ]
  },
  {
   "cell_type": "code",
   "execution_count": 4,
   "id": "c933dc52-4771-4531-8257-3033d1250492",
   "metadata": {},
   "outputs": [
    {
     "name": "stdout",
     "output_type": "stream",
     "text": [
      "[{'id': 904493648, 'name': 'pandas_exercises', 'fullname': 'Aadi6182831/pandas_exercises', 'account_private': False, 'owner': 189071221, 'Description': 'Practice your pandas skills!', 'star_count': 0, 'lang': None, 'forkscount': 0, 'forks': 0, 'issues': 0, 'time_creation': '2024-12-17T02:11:38Z'}, {'id': 905032955, 'name': 'python_essentials_for_data_engineers', 'fullname': 'Aadi6182831/python_essentials_for_data_engineers', 'account_private': False, 'owner': 189071221, 'Description': 'Code for blog at https://www.startdataengineering.com/post/python-for-de/', 'star_count': 0, 'lang': 'Python', 'forkscount': 0, 'forks': 0, 'issues': 0, 'time_creation': '2024-12-18T02:59:48Z'}]\n"
     ]
    }
   ],
   "source": [
    "#GitHub API response contains a lot of information, but not all of it may be useful for your analysis or project.\n",
    "# we want to filter out unnecessary information and focus only on the relevant data fields (e.g., stars, forks, language, etc.).\n",
    "repo_data =[] \n",
    "#By converting this data into a structured list of dictionaries, we can easily convert it into a DataFrame \n",
    "#for further analysis and loading into a database.\n",
    "for repo in Data:\n",
    "    repo_data.append({'id':repo['id'],'name':repo['name'],'fullname':repo['full_name'],'account_private':repo[\"private\"],\n",
    "                      \"owner\":repo['owner']['id'],\"Description\":repo[\"description\"],\"star_count\":repo[\"stargazers_count\"],\"lang\":repo[\"language\"],\n",
    "                      \"forkscount\":repo['forks_count'],'forks':repo[\"forks\"],'issues':repo[\"open_issues\"],'time_creation':repo['created_at']})\n",
    "print(repo_data)"
   ]
  },
  {
   "cell_type": "code",
   "execution_count": 5,
   "id": "b34cd7e6-7bec-4372-b14a-ca74b3c5db29",
   "metadata": {},
   "outputs": [
    {
     "data": {
      "text/html": [
       "<div>\n",
       "<style scoped>\n",
       "    .dataframe tbody tr th:only-of-type {\n",
       "        vertical-align: middle;\n",
       "    }\n",
       "\n",
       "    .dataframe tbody tr th {\n",
       "        vertical-align: top;\n",
       "    }\n",
       "\n",
       "    .dataframe thead th {\n",
       "        text-align: right;\n",
       "    }\n",
       "</style>\n",
       "<table border=\"1\" class=\"dataframe\">\n",
       "  <thead>\n",
       "    <tr style=\"text-align: right;\">\n",
       "      <th></th>\n",
       "      <th>id</th>\n",
       "      <th>name</th>\n",
       "      <th>fullname</th>\n",
       "      <th>account_private</th>\n",
       "      <th>owner</th>\n",
       "      <th>Description</th>\n",
       "      <th>star_count</th>\n",
       "      <th>lang</th>\n",
       "      <th>forkscount</th>\n",
       "      <th>forks</th>\n",
       "      <th>issues</th>\n",
       "      <th>time_creation</th>\n",
       "    </tr>\n",
       "  </thead>\n",
       "  <tbody>\n",
       "    <tr>\n",
       "      <th>0</th>\n",
       "      <td>904493648</td>\n",
       "      <td>pandas_exercises</td>\n",
       "      <td>Aadi6182831/pandas_exercises</td>\n",
       "      <td>False</td>\n",
       "      <td>189071221</td>\n",
       "      <td>Practice your pandas skills!</td>\n",
       "      <td>0</td>\n",
       "      <td>None</td>\n",
       "      <td>0</td>\n",
       "      <td>0</td>\n",
       "      <td>0</td>\n",
       "      <td>2024-12-17T02:11:38Z</td>\n",
       "    </tr>\n",
       "    <tr>\n",
       "      <th>1</th>\n",
       "      <td>905032955</td>\n",
       "      <td>python_essentials_for_data_engineers</td>\n",
       "      <td>Aadi6182831/python_essentials_for_data_engineers</td>\n",
       "      <td>False</td>\n",
       "      <td>189071221</td>\n",
       "      <td>Code for blog at https://www.startdataengineer...</td>\n",
       "      <td>0</td>\n",
       "      <td>Python</td>\n",
       "      <td>0</td>\n",
       "      <td>0</td>\n",
       "      <td>0</td>\n",
       "      <td>2024-12-18T02:59:48Z</td>\n",
       "    </tr>\n",
       "  </tbody>\n",
       "</table>\n",
       "</div>"
      ],
      "text/plain": [
       "          id                                  name  \\\n",
       "0  904493648                      pandas_exercises   \n",
       "1  905032955  python_essentials_for_data_engineers   \n",
       "\n",
       "                                           fullname  account_private  \\\n",
       "0                      Aadi6182831/pandas_exercises            False   \n",
       "1  Aadi6182831/python_essentials_for_data_engineers            False   \n",
       "\n",
       "       owner                                        Description  star_count  \\\n",
       "0  189071221                       Practice your pandas skills!           0   \n",
       "1  189071221  Code for blog at https://www.startdataengineer...           0   \n",
       "\n",
       "     lang  forkscount  forks  issues         time_creation  \n",
       "0    None           0      0       0  2024-12-17T02:11:38Z  \n",
       "1  Python           0      0       0  2024-12-18T02:59:48Z  "
      ]
     },
     "execution_count": 5,
     "metadata": {},
     "output_type": "execute_result"
    }
   ],
   "source": [
    "# DataFrames are great for manipulating, filtering, and analyzing data in Python.\n",
    "#They provide high-level functions like groupby(), filter(), sort(), and pivot() that make complex data analysis \n",
    "# and transformation easier and more efficient.\n",
    "df=pd.DataFrame(repo_data)\n",
    "df.head()"
   ]
  },
  {
   "cell_type": "code",
   "execution_count": 6,
   "id": "139b90d3-ea8f-46a3-b8bb-50daefc13e5a",
   "metadata": {},
   "outputs": [],
   "source": [
    "df.to_csv(\"repos_data.csv\",index=False)"
   ]
  },
  {
   "cell_type": "code",
   "execution_count": 7,
   "id": "f6c0a74c-306d-4027-b4a2-2cee4bb16203",
   "metadata": {},
   "outputs": [],
   "source": [
    "#conn.open()\n",
    "# Connect to SQLite\n",
    "conn = sqlite3.connect('github_repos.db')  # Connect to SQLite database (or create it if it doesn't exist)\n",
    "cursor = conn.cursor()  # Create a cursor to interact with the database\n",
    "\n",
    "# Create Table\n",
    "cursor.execute('''CREATE TABLE IF NOT EXISTS REPOS( id INTEGER PRIMARY KEY,\n",
    "        name TEXT,\n",
    "        full_name TEXT,\n",
    "        account_private\tTEXT,\n",
    "        owner TEXT,\n",
    "        Description\tTEXT,\n",
    "        star_count INTEGER,\n",
    "        lang TEXT,\n",
    "        forkscount INTEGER,\n",
    "        forks INTEGER,\n",
    "        issues INTEGER,\n",
    "        time_creation TEXT\n",
    "    )\n",
    "''')\n",
    "\n",
    "\n",
    "# Commit\n",
    "conn.commit()"
   ]
  },
  {
   "cell_type": "code",
   "execution_count": 8,
   "id": "4ea50720-ac5e-40d1-8f9a-4f01b913475f",
   "metadata": {},
   "outputs": [
    {
     "name": "stdout",
     "output_type": "stream",
     "text": [
      "Data successfully stored in SQLite!\n"
     ]
    }
   ],
   "source": [
    "df.to_sql('REPOS', conn, if_exists='replace', index=False)\n",
    "print(\"Data successfully stored in SQLite!\")"
   ]
  },
  {
   "cell_type": "code",
   "execution_count": 9,
   "id": "ce9cb605-6817-4816-8b27-918db06b4c86",
   "metadata": {},
   "outputs": [
    {
     "name": "stdout",
     "output_type": "stream",
     "text": [
      "[(904493648, 'pandas_exercises', 'Aadi6182831/pandas_exercises', 0, 189071221, 'Practice your pandas skills!', 0, None, 0, 0, 0, '2024-12-17T02:11:38Z'), (905032955, 'python_essentials_for_data_engineers', 'Aadi6182831/python_essentials_for_data_engineers', 0, 189071221, 'Code for blog at https://www.startdataengineering.com/post/python-for-de/', 0, 'Python', 0, 0, 0, '2024-12-18T02:59:48Z')]\n"
     ]
    }
   ],
   "source": [
    "# SQL queries to retrieve the data.\n",
    "# Retrieve repositories with =0\n",
    "cursor.execute(\"SELECT * FROM REPOS\")\n",
    "high_star_repos = cursor.fetchall()\n",
    "print(high_star_repos)\n",
    "conn.close()"
   ]
  },
  {
   "cell_type": "code",
   "execution_count": 10,
   "id": "790fed4a-dc8a-41b4-9eaf-3da5d7970c75",
   "metadata": {},
   "outputs": [],
   "source": [
    "#data loading from csv document(can load by using 2 processes,1.csv loading to dataframe\n",
    "#2 By creating database,table in sqlite and inserting the data later\n",
    "conn1 = sqlite3.connect('github_csv_repos.db')  # Connect to SQLite database (or create it if it doesn't exist)\n",
    "cursor1 = conn1.cursor()  # Create a cursor to interact with the database\n",
    "\n",
    "cursor1.execute(\"DELETE FROM CSV_REPOS\")\n",
    "conn1.commit()\n",
    "\n",
    "# Create Table\n",
    "cursor1.execute('''CREATE TABLE IF NOT EXISTS CSV_REPOS( id INTEGER PRIMARY KEY,\n",
    "        name TEXT,\n",
    "        full_name TEXT,\n",
    "        account_private\tTEXT,\n",
    "        owner TEXT,\n",
    "        Description\tTEXT,\n",
    "        star_count INTEGER,\n",
    "        lang TEXT,\n",
    "        forkscount INTEGER,\n",
    "        forks INTEGER,\n",
    "        issues INTEGER,\n",
    "        time_creation TEXT\n",
    "    )\n",
    "''')\n",
    "\n",
    "conn1.commit()"
   ]
  },
  {
   "cell_type": "code",
   "execution_count": 11,
   "id": "cceef92c-aabc-4803-8e92-4a139b25fa84",
   "metadata": {},
   "outputs": [],
   "source": [
    "with open('repos_data.csv',\"r\") as file:\n",
    "    reader=csv.reader(file)\n",
    "# used to skip the first row (header row) in a CSV file when reading it using Python's csv module.\n",
    "    next(reader)\n",
    "    for row in reader :\n",
    "        cursor1.execute('''INSERT INTO CSV_REPOS VALUES(?,?,?,?,?,?,?,?,?,?,?,?)''', row) \n",
    "\n",
    "    conn1.commit()"
   ]
  },
  {
   "cell_type": "code",
   "execution_count": 12,
   "id": "d91f3e6e-e3c9-4c9a-87e7-ffae206ebcb3",
   "metadata": {},
   "outputs": [
    {
     "data": {
      "text/plain": [
       "[(904493648,\n",
       "  'pandas_exercises',\n",
       "  'Aadi6182831/pandas_exercises',\n",
       "  'False',\n",
       "  '189071221',\n",
       "  'Practice your pandas skills!',\n",
       "  0,\n",
       "  '',\n",
       "  0,\n",
       "  0,\n",
       "  0,\n",
       "  '2024-12-17T02:11:38Z'),\n",
       " (905032955,\n",
       "  'python_essentials_for_data_engineers',\n",
       "  'Aadi6182831/python_essentials_for_data_engineers',\n",
       "  'False',\n",
       "  '189071221',\n",
       "  'Code for blog at https://www.startdataengineering.com/post/python-for-de/',\n",
       "  0,\n",
       "  'Python',\n",
       "  0,\n",
       "  0,\n",
       "  0,\n",
       "  '2024-12-18T02:59:48Z')]"
      ]
     },
     "execution_count": 12,
     "metadata": {},
     "output_type": "execute_result"
    }
   ],
   "source": [
    "cursor1.execute(\"SELECT * FROM CSV_REPOS\")\n",
    "cursor1.fetchall()"
   ]
  },
  {
   "cell_type": "code",
   "execution_count": 13,
   "id": "a0940650-4c3f-42a9-a18e-6e3fab63efc5",
   "metadata": {},
   "outputs": [
    {
     "name": "stdout",
     "output_type": "stream",
     "text": [
      "     lang  repo_count\n",
      "0  Python           1\n",
      "1                   1\n"
     ]
    }
   ],
   "source": [
    "#Perform Data Analysis\n",
    "query = \"SELECT lang, COUNT(*) as repo_count FROM CSV_REPOS GROUP BY lang ORDER BY repo_count DESC\"\n",
    "df_lang = pd.read_sql(query, conn1)\n",
    "print(df_lang)"
   ]
  },
  {
   "cell_type": "code",
   "execution_count": 14,
   "id": "017bbddc-f909-47b8-b7a2-01142f2561df",
   "metadata": {},
   "outputs": [],
   "source": [
    "conn1.close()\n",
    "# When you call ***sqlite3.connect('github_csv_repos.db')***, it opens the database file named github_csv_repos.db. \n",
    "# If the file does not exist, SQLite will create it."
   ]
  },
  {
   "cell_type": "code",
   "execution_count": 15,
   "id": "be7e6e49-9d7b-4cbc-998f-da5ecbbee944",
   "metadata": {},
   "outputs": [
    {
     "name": "stdout",
     "output_type": "stream",
     "text": [
      "Task executed at 2025-02-01 13:39:12\n",
      "\n"
     ]
    }
   ],
   "source": [
    "# Example to log the script's execution time in a log file\n",
    "with open(\"script_log.txt\", \"a\") as log:\n",
    "    log.write(f\"Task executed at {datetime.now().strftime('%Y-%m-%d %H:%M:%S')}\\n\")\n",
    "    print(f\"Task executed at {datetime.now().strftime('%Y-%m-%d %H:%M:%S')}\\n\")"
   ]
  },
  {
   "cell_type": "raw",
   "id": "97473c42-8ca0-4be4-a784-0f4702aa7a85",
   "metadata": {},
   "source": [
    "Final Summary:::\n",
    "Step             \tTask\n",
    "Step 1  \tSet up environment & install libraries\n",
    "Step 2  \tFetch GitHub repository data using API\n",
    "Step 3\t    Convert JSON response to structured DataFrame\n",
    "Step 4\t    Load cleaned data into SQLite/PostgreSQL\n",
    "Step 5\t    Query data for insights\n",
    "Step 6\t    Connect database to Tableau for visualization\n",
    "Step 7\t    Automate the process"
   ]
  }
 ],
 "metadata": {
  "kernelspec": {
   "display_name": "Python 3 (ipykernel)",
   "language": "python",
   "name": "python3"
  },
  "language_info": {
   "codemirror_mode": {
    "name": "ipython",
    "version": 3
   },
   "file_extension": ".py",
   "mimetype": "text/x-python",
   "name": "python",
   "nbconvert_exporter": "python",
   "pygments_lexer": "ipython3",
   "version": "3.13.1"
  }
 },
 "nbformat": 4,
 "nbformat_minor": 5
}
