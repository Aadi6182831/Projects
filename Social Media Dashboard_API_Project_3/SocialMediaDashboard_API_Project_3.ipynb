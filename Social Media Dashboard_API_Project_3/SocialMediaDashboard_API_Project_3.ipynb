{
 "cells": [
  {
   "cell_type": "markdown",
   "id": "8338e3e9-ce5a-4c55-85c8-d1e963c63a61",
   "metadata": {},
   "source": [
    "Goal:\n",
    "Create a Social Media Dashboard to analyze user engagement on Instagram posts by fetching, storing, and visualizing data.\n",
    "\n",
    "Key Skills You’ll Learn:\n",
    "✅ API Authentication (OAuth2)\n",
    "✅ Fetching Data from Instagram API\n",
    "✅ Parsing JSON Data\n",
    "✅ Storing Data in a Database (SQLite/PostgreSQL)\n",
    "✅ Data Analysis & Visualization (Tableau/Power BI)"
   ]
  },
  {
   "cell_type": "code",
   "execution_count": 1,
   "id": "9df5dfc8-c35e-4bc2-89db-7c0941eca595",
   "metadata": {},
   "outputs": [],
   "source": [
    "import requests\n",
    "import os\n",
    "import json\n",
    "import pandas as pd"
   ]
  },
  {
   "cell_type": "code",
   "execution_count": 6,
   "id": "5a9599d4-ad84-49f2-920d-3c9d9ef43435",
   "metadata": {},
   "outputs": [
    {
     "name": "stdout",
     "output_type": "stream",
     "text": [
      "Failed to retrieve data from Instagram API\n",
      "Error: 400 {\"error\":{\"message\":\"Unsupported get request. Object with ID 'warrior_062231' does not exist, cannot be loaded due to missing permissions, or does not support this operation\",\"type\":\"IGApiException\",\"code\":100,\"error_subcode\":33,\"fbtrace_id\":\"A1n16H1Jbr-HkcOFsQBgovp\"}}\n"
     ]
    }
   ],
   "source": [
    "# Step 1: Define Instagram credentials (store securely, not hardcoded in production)\n",
    "user_id = \"warrior_062231\"  # Replace with your Instagram User ID\n",
    "os.environ['INSTAGRAM_ACCESS_TOKEN'] = 'IGAAQWewyzDUVBZAE5TOG1XcjItT05RdUl6M0dPQ2kwLVMzNXFHMTAyTE11NzgxTEU2cEhtNFdtVy1KNkwxN1p2T0wyRU0xcUlnS01xcXhYREdra1lHVmZAUbGxoRm9vZA3VmU2g0VzRHUkxSeTl4OTcyTzBzZAXV6d0dMTUhwaGl2MAZDZD'\n",
    "access_token = os.environ['INSTAGRAM_ACCESS_TOKEN']\n",
    "\n",
    "#os.environ['INSTAGRAM_ACCESS_TOKEN']  # Fetch the access token from environment variables\n",
    "\n",
    "# Step 2: Define the API URL to fetch Instagram data\n",
    "url = f\"https://graph.instagram.com/{user_id}/media?fields=id,caption,media_type,media_url,thumbnail_url,permalink,timestamp&access_token={access_token}\"\n",
    "\n",
    "# Step 3: Make a request to the Instagram Graph API\n",
    "response = requests.get(url)\n",
    "\n",
    "# Step 4: Check if the response is successful\n",
    "if response.status_code == 200:\n",
    "    data = response.json()  # Parse JSON data into a dictionary\n",
    "    \n",
    "    # Step 5: Extract posts information\n",
    "    posts = data['data']  # 'data' contains the list of posts\n",
    "    \n",
    "    # Step 6: Process and store data into a pandas DataFrame\n",
    "    posts_data = []\n",
    "    \n",
    "    for post in posts:\n",
    "        post_dict = {\n",
    "            'id': post['id'],\n",
    "            'caption': post.get('caption', 'No caption'),  # Handle missing captions\n",
    "            'media_type': post['media_type'],\n",
    "            'media_url': post['media_url'],\n",
    "            'thumbnail_url': post.get('thumbnail_url', 'No thumbnail'),\n",
    "            'permalink': post['permalink'],\n",
    "            'timestamp': datetime.strptime(post['timestamp'], '%Y-%m-%dT%H:%M:%S+0000')\n",
    "        }\n",
    "        posts_data.append(post_dict)\n",
    "\n",
    "    # Step 7: Create a DataFrame to store post details\n",
    "    df = pd.DataFrame(posts_data)\n",
    "\n",
    "    # Step 8: Display the DataFrame\n",
    "    print(df)\n",
    "\n",
    "    # Optional: Save the data into a CSV file\n",
    "    df.to_csv('instagram_posts.csv', index=False)\n",
    "else:\n",
    "    print(\"Failed to retrieve data from Instagram API\")\n",
    "    print(\"Error:\", response.status_code, response.text)\n"
   ]
  },
  {
   "cell_type": "code",
   "execution_count": null,
   "id": "cd05d65f-3558-43a5-acef-232de570261d",
   "metadata": {},
   "outputs": [],
   "source": []
  }
 ],
 "metadata": {
  "kernelspec": {
   "display_name": "Python 3 (ipykernel)",
   "language": "python",
   "name": "python3"
  },
  "language_info": {
   "codemirror_mode": {
    "name": "ipython",
    "version": 3
   },
   "file_extension": ".py",
   "mimetype": "text/x-python",
   "name": "python",
   "nbconvert_exporter": "python",
   "pygments_lexer": "ipython3",
   "version": "3.13.1"
  }
 },
 "nbformat": 4,
 "nbformat_minor": 5
}
