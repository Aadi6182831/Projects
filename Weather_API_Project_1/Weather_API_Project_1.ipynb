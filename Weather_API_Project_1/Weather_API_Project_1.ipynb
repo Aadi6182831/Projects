{
 "cells": [
  {
   "cell_type": "markdown",
   "id": "698439e8-1cdc-4a15-959b-c36afdfac2d3",
   "metadata": {},
   "source": [
    "1. Weather Dashboard:Jan 19, 2025\n",
    "\n",
    "i.)Goal: Create a real-time weather dashboard for any city.\n",
    "\n",
    "ii.)Skills: Learn API requests, JSON parsing.\n",
    "\n",
    "iii.)Steps:\n",
    "Fetch weather data from the OpenWeather API.\n",
    "Parse and display relevant details like temperature, humidity, and weather conditions.\n",
    "Allow user input for city selection.\n",
    "\n",
    "iv.)Tools: Python with REST API\n",
    "\n",
    "v.)Learning Resources: OpenWeather API Docs, Python Requests Docs, Youtube Tutorial"
   ]
  },
  {
   "cell_type": "code",
   "execution_count": 1,
   "id": "a71e0dac-d631-4f0a-a011-db85f673d8d6",
   "metadata": {},
   "outputs": [],
   "source": [
    "import requests\n",
    "import os\n",
    "from datetime import datetime \n"
   ]
  },
  {
   "cell_type": "code",
   "execution_count": 2,
   "id": "3e8aeae4-9be1-4f62-8c92-5738d82e7761",
   "metadata": {},
   "outputs": [
    {
     "name": "stdout",
     "output_type": "stream",
     "text": [
      "environ({'ALLUSERSPROFILE': 'C:\\\\ProgramData', 'APPDATA': 'C:\\\\Users\\\\AGHNIKA RAMINENI\\\\AppData\\\\Roaming', 'COMMONPROGRAMFILES': 'C:\\\\Program Files\\\\Common Files', 'COMMONPROGRAMFILES(X86)': 'C:\\\\Program Files (x86)\\\\Common Files', 'COMMONPROGRAMW6432': 'C:\\\\Program Files\\\\Common Files', 'COMPUTERNAME': 'AADI', 'COMSPEC': 'C:\\\\WINDOWS\\\\system32\\\\cmd.exe', 'CURRENT_WEATHER_DATA': '7dd96578f6e3654e0871eedceff74948', 'DRIVERDATA': 'C:\\\\Windows\\\\System32\\\\Drivers\\\\DriverData', 'EFC_8204': '1', 'HOMEDRIVE': 'C:', 'HOMEPATH': '\\\\Users\\\\AGHNIKA RAMINENI', 'IPY_INTERRUPT_EVENT': '1372', 'JPY_INTERRUPT_EVENT': '1372', 'JPY_PARENT_PID': '1744', 'JPY_SESSION_NAME': 'C:\\\\Users\\\\AGHNIKA RAMINENI\\\\Weather_API_Project_1.ipynb', 'LOCALAPPDATA': 'C:\\\\Users\\\\AGHNIKA RAMINENI\\\\AppData\\\\Local', 'LOGONSERVER': '\\\\\\\\AADI', 'NUMBER_OF_PROCESSORS': '12', 'ONEDRIVE': 'C:\\\\Users\\\\AGHNIKA RAMINENI\\\\OneDrive', 'ONEDRIVECONSUMER': 'C:\\\\Users\\\\AGHNIKA RAMINENI\\\\OneDrive', 'ONLINESERVICES': 'Online Services', 'OS': 'Windows_NT', 'PATH': 'C:\\\\Program Files\\\\Python313\\\\Scripts\\\\;C:\\\\Program Files\\\\Python313\\\\;C:\\\\WINDOWS\\\\system32;C:\\\\WINDOWS;C:\\\\WINDOWS\\\\System32\\\\Wbem;C:\\\\WINDOWS\\\\System32\\\\WindowsPowerShell\\\\v1.0\\\\;C:\\\\WINDOWS\\\\System32\\\\OpenSSH\\\\;C:\\\\msys64\\\\mingw64\\\\bin;C:\\\\Users\\\\AGHNIKA RAMINENI\\\\AppData\\\\Roaming\\\\Python\\\\Python313\\\\Scripts;C:\\\\Users\\\\AGHNIKA RAMINENI\\\\AppData\\\\Local\\\\Microsoft\\\\WindowsApps;C:\\\\CTOOLS\\\\bin;C:\\\\CTOOLS\\\\mingw32\\\\bin;C:\\\\Users\\\\AGHNIKA RAMINENI\\\\AppData\\\\Local\\\\Programs\\\\Microsoft VS Code\\\\bin;C:\\\\Program Files\\\\Python313\\\\Scripts;', 'PATHEXT': '.COM;.EXE;.BAT;.CMD;.VBS;.VBE;.JS;.JSE;.WSF;.WSH;.MSC;.PY;.PYW', 'PLATFORMCODE': 'KV', 'PROCESSOR_ARCHITECTURE': 'AMD64', 'PROCESSOR_IDENTIFIER': 'Intel64 Family 6 Model 154 Stepping 4, GenuineIntel', 'PROCESSOR_LEVEL': '6', 'PROCESSOR_REVISION': '9a04', 'PROGRAMDATA': 'C:\\\\ProgramData', 'PROGRAMFILES': 'C:\\\\Program Files', 'PROGRAMFILES(X86)': 'C:\\\\Program Files (x86)', 'PROGRAMW6432': 'C:\\\\Program Files', 'PROMPT': '$P$G', 'PSMODULEPATH': 'C:\\\\Program Files\\\\WindowsPowerShell\\\\Modules;C:\\\\WINDOWS\\\\system32\\\\WindowsPowerShell\\\\v1.0\\\\Modules', 'PUBLIC': 'C:\\\\Users\\\\Public', 'REGIONCODE': 'APJ', 'SESSIONNAME': 'Console', 'STM32CUBEMX_PATH': 'C:\\\\Program Files\\\\STMicroelectronics\\\\STM32Cube\\\\STM32CubeMX', 'SYSTEMDRIVE': 'C:', 'SYSTEMROOT': 'C:\\\\WINDOWS', 'TEMP': 'C:\\\\Users\\\\AGHNIK~1\\\\AppData\\\\Local\\\\Temp', 'TMP': 'C:\\\\Users\\\\AGHNIK~1\\\\AppData\\\\Local\\\\Temp', 'USERDOMAIN': 'AADI', 'USERDOMAIN_ROAMINGPROFILE': 'AADI', 'USERNAME': 'Aadi_Ramineni', 'USERPROFILE': 'C:\\\\Users\\\\AGHNIKA RAMINENI', 'WINDIR': 'C:\\\\WINDOWS', 'ZES_ENABLE_SYSMAN': '1', 'PYDEVD_USE_FRAME_EVAL': 'NO', 'TERM': 'xterm-color', 'CLICOLOR': '1', 'FORCE_COLOR': '1', 'CLICOLOR_FORCE': '1', 'PAGER': 'cat', 'GIT_PAGER': 'cat', 'MPLBACKEND': 'module://matplotlib_inline.backend_inline'})\n"
     ]
    }
   ],
   "source": [
    "print(os.environ)"
   ]
  },
  {
   "cell_type": "code",
   "execution_count": 3,
   "id": "1b18f8e9-99ee-41be-bc47-6cd1ed3101f0",
   "metadata": {},
   "outputs": [
    {
     "name": "stdin",
     "output_type": "stream",
     "text": [
      "enter city name:  Bangalore\n"
     ]
    }
   ],
   "source": [
    "My_Api = os.environ['current_weather_data']\n",
    "#city = {'Delhi', 'Bangalore'}\n",
    "city_name =input(\"enter city name: \")"
   ]
  },
  {
   "cell_type": "code",
   "execution_count": 4,
   "id": "3ff8ee0b-a0b6-44b2-a8ad-a2f69cd362d1",
   "metadata": {},
   "outputs": [],
   "source": [
    "Data = f\"https://api.openweathermap.org/data/2.5/weather?q={city_name}&appid={My_Api}\""
   ]
  },
  {
   "cell_type": "code",
   "execution_count": 5,
   "id": "70f13efd-2205-4dba-a658-d92422e47919",
   "metadata": {},
   "outputs": [],
   "source": [
    "Output =requests.get(Data)"
   ]
  },
  {
   "cell_type": "code",
   "execution_count": 6,
   "id": "37953582-26ed-4713-8113-f5cd83be7dc9",
   "metadata": {},
   "outputs": [],
   "source": [
    "Weather_data= Output.json()"
   ]
  },
  {
   "cell_type": "code",
   "execution_count": 7,
   "id": "f5b9aca6-56ef-4ea8-8519-761c4460ffa2",
   "metadata": {},
   "outputs": [
    {
     "name": "stdout",
     "output_type": "stream",
     "text": [
      "{'coord': {'lon': 77.6033, 'lat': 12.9762}, 'weather': [{'id': 701, 'main': 'Mist', 'description': 'mist', 'icon': '50n'}], 'base': 'stations', 'main': {'temp': 292.05, 'feels_like': 292.22, 'temp_min': 291.76, 'temp_max': 292.65, 'pressure': 1012, 'humidity': 85, 'sea_level': 1012, 'grnd_level': 914}, 'visibility': 3000, 'wind': {'speed': 2.06, 'deg': 40}, 'clouds': {'all': 40}, 'dt': 1737238977, 'sys': {'type': 1, 'id': 9205, 'country': 'IN', 'sunrise': 1737249362, 'sunset': 1737290647}, 'timezone': 19800, 'id': 1277333, 'name': 'Bengaluru', 'cod': 200}\n"
     ]
    }
   ],
   "source": [
    "print(Weather_data)"
   ]
  },
  {
   "cell_type": "code",
   "execution_count": 8,
   "id": "ff3ad723-9359-47af-8345-5698d7bcc25d",
   "metadata": {},
   "outputs": [
    {
     "name": "stdout",
     "output_type": "stream",
     "text": [
      "-------------------------------------------------------------\n",
      "Weather Stats for - BANGALORE || 18 January 2025 | 05:32:06 PM\n",
      "Current temperature: 18.90°C\n",
      "Weather description: mist\n",
      "Weather feels like of temparature: 19.07°C\n",
      "Minimum temparature of Bangalore on 18 January 2025 | 05:32:06 PM is 18.61\n",
      "Maximum temparature of Bangalore on 18 January 2025 | 05:32:06 PM is 19.50\n",
      "Humidity of Bangalore on 18 January 2025 | 05:32:06 PM is 85%\n",
      "Wind speed: 2.06 km/h\n",
      "sun rise in {city_name} is at:{sun_rise}\n",
      "sun set in {city_name} is at:{sun_set}\n"
     ]
    }
   ],
   "source": [
    "if Output.status_code != 200:\n",
    "    print(\"Provide Valid city name \")\n",
    "else :\n",
    "    city_weather = Weather_data['weather'][0]['description']\n",
    "    city_temp = ((Weather_data['main']['temp'])-273.15)\n",
    "    temp_feels_like =((Weather_data['main']['feels_like'])-273.15)\n",
    "    min_temp=((Weather_data['main']['temp_min'])-273.15)\n",
    "    max_temp=((Weather_data['main']['temp_max'])-273.15)\n",
    "    humid=Weather_data['main']['humidity']\n",
    "    wind_speed =Weather_data['wind']['speed']\n",
    "    date_time = datetime.now().strftime(\"%d %B %Y | %I:%M:%S %p\")\n",
    "    sun_rise= Weather_data['sys']['sunrise']\n",
    "    sun_set=Weather_data['sys']['sunset']\n",
    "    print(\"-------------------------------------------------------------\")\n",
    "    print(f\"Weather Stats for - {city_name.upper()} || {date_time}\")\n",
    "    print(f\"Current temperature: {city_temp:.2f}°C\")\n",
    "    print(f\"Weather description: {city_weather}\")\n",
    "    print(f\"Weather feels like of temparature: {temp_feels_like:.2f}°C\")\n",
    "    print(f\"Minimum temparature of {city_name} on {date_time} is { min_temp:.2f}\")\n",
    "    print(f\"Maximum temparature of {city_name} on {date_time} is { max_temp:.2f}\")\n",
    "    print(f\"Humidity of {city_name} on {date_time} is {humid}%\")\n",
    "    print(f\"Wind speed: {wind_speed} km/h\")\n",
    "    print(\"sun rise in {city_name} is at:{sun_rise}\")\n",
    "    print(\"sun set in {city_name} is at:{sun_set}\")"
   ]
  }
 ],
 "metadata": {
  "kernelspec": {
   "display_name": "Python 3 (ipykernel)",
   "language": "python",
   "name": "python3"
  },
  "language_info": {
   "codemirror_mode": {
    "name": "ipython",
    "version": 3
   },
   "file_extension": ".py",
   "mimetype": "text/x-python",
   "name": "python",
   "nbconvert_exporter": "python",
   "pygments_lexer": "ipython3",
   "version": "3.13.1"
  }
 },
 "nbformat": 4,
 "nbformat_minor": 5
}
